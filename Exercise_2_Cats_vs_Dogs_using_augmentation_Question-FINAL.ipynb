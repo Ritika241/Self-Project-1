{
 "cells": [
  {
   "cell_type": "code",
   "execution_count": 4,
   "metadata": {
    "colab": {},
    "colab_type": "code",
    "id": "dn-6c02VmqiN"
   },
   "outputs": [],
   "source": [
    "# ATTENTION: Please do not alter any of the provided code in the exercise. Only add your own code where indicated\n",
    "# ATTENTION: Please do not add or remove any cells in the exercise. The grader will check specific cells based on the cell position.\n",
    "# ATTENTION: Please use the provided epoch values when training.\n",
    "\n",
    "# In this exercise you will train a CNN on the FULL Cats-v-dogs dataset\n",
    "# This will require you doing a lot of data preprocessing because\n",
    "# the dataset isn't split into training and validation for you\n",
    "# This code block has all the required inputs\n",
    "import os\n",
    "import zipfile\n",
    "import random\n",
    "import shutil\n",
    "import tensorflow as tf\n",
    "from tensorflow.keras.optimizers import RMSprop\n",
    "from tensorflow.keras.preprocessing.image import ImageDataGenerator\n",
    "from shutil import copyfile\n",
    "from os import getcwd"
   ]
  },
  {
   "cell_type": "code",
   "execution_count": 5,
   "metadata": {
    "colab": {},
    "colab_type": "code",
    "id": "3sd9dQWa23aj"
   },
   "outputs": [],
   "source": [
    "# This code block unzips the full Cats-v-Dogs dataset to /tmp\n",
    "# which will create a tmp/PetImages directory containing subdirectories\n",
    "# called 'Cat' and 'Dog' (that's how the original researchers structured it)\n",
    "path_cats_and_dogs = f\"{getcwd()}/../tmp2/cats-and-dogs.zip\"\n",
    "shutil.rmtree('/tmp')\n",
    "\n",
    "local_zip = path_cats_and_dogs\n",
    "zip_ref = zipfile.ZipFile(local_zip, 'r')\n",
    "zip_ref.extractall('/tmp')\n",
    "zip_ref.close()"
   ]
  },
  {
   "cell_type": "code",
   "execution_count": 6,
   "metadata": {
    "colab": {},
    "colab_type": "code",
    "id": "gi3yD62a6X3S"
   },
   "outputs": [
    {
     "name": "stdout",
     "output_type": "stream",
     "text": [
      "1500\n",
      "1500\n"
     ]
    }
   ],
   "source": [
    "print(len(os.listdir('/tmp/PetImages/Cat/')))\n",
    "print(len(os.listdir('/tmp/PetImages/Dog/')))\n",
    "\n",
    "# Expected Output:\n",
    "# 1500\n",
    "# 1500"
   ]
  },
  {
   "cell_type": "code",
   "execution_count": 7,
   "metadata": {
    "colab": {},
    "colab_type": "code",
    "id": "F-QkLjxpmyK2"
   },
   "outputs": [],
   "source": [
    "# Use os.mkdir to create your directories\n",
    "# You will need a directory for cats-v-dogs, and subdirectories for training\n",
    "# and testing. These in turn will need subdirectories for 'cats' and 'dogs'\n",
    "try:\n",
    "    os.mkdir('/tmp/cats-v-dogs')\n",
    "    os.mkdir('/tmp/cats-v-dogs/training')\n",
    "    os.mkdir('/tmp/cats-v-dogs/testing')\n",
    "    os.mkdir('/tmp/cats-v-dogs/training/cats')\n",
    "    os.mkdir('/tmp/cats-v-dogs/training/dogs')\n",
    "    os.mkdir('/tmp/cats-v-dogs/testing/cats')\n",
    "    os.mkdir('/tmp/cats-v-dogs/testing/dogs')\n",
    "except OSError:\n",
    "    pass"
   ]
  },
  {
   "cell_type": "code",
   "execution_count": 8,
   "metadata": {
    "colab": {},
    "colab_type": "code",
    "id": "zvSODo0f9LaU"
   },
   "outputs": [],
   "source": [
    "# Write a python function called split_data which takes\n",
    "# a SOURCE directory containing the files\n",
    "# a TRAINING directory that a portion of the files will be copied to\n",
    "# a TESTING directory that a portion of the files will be copie to\n",
    "# a SPLIT SIZE to determine the portion\n",
    "# The files should also be randomized, so that the training set is a random\n",
    "# X% of the files, and the test set is the remaining files\n",
    "# SO, for example, if SOURCE is PetImages/Cat, and SPLIT SIZE is .9\n",
    "# Then 90% of the images in PetImages/Cat will be copied to the TRAINING dir\n",
    "# and 10% of the images will be copied to the TESTING dir\n",
    "# Also -- All images should be checked, and if they have a zero file length,\n",
    "# they will not be copied over\n",
    "#\n",
    "# os.listdir(DIRECTORY) gives you a listing of the contents of that directory\n",
    "# os.path.getsize(PATH) gives you the size of the file\n",
    "# copyfile(source, destination) copies a file from source to destination\n",
    "# random.sample(list, len(list)) shuffles a list\n",
    "def split_data(SOURCE, TRAINING, TESTING, SPLIT_SIZE):\n",
    "# YOUR CODE STARTS HERE\n",
    "    files = []\n",
    "    for filename in os.listdir(SOURCE):\n",
    "        file = SOURCE + filename\n",
    "        if os.path.getsize(file) > 0:\n",
    "            files.append(filename)\n",
    "        else:\n",
    "            print(filename + \" is zero length, so ignoring.\")\n",
    "\n",
    "    training_length = int(len(files) * SPLIT_SIZE)\n",
    "    testing_length = int(len(files) - training_length)\n",
    "    shuffled_set = random.sample(files, len(files))\n",
    "    training_set = shuffled_set[0:training_length]\n",
    "    testing_set = shuffled_set[-testing_length:]\n",
    "\n",
    "    for filename in training_set:\n",
    "        this_file = SOURCE + filename\n",
    "        destination = TRAINING + filename\n",
    "        copyfile(this_file, destination)\n",
    "\n",
    "    for filename in testing_set:\n",
    "        this_file = SOURCE + filename\n",
    "        destination = TESTING + filename\n",
    "        copyfile(this_file, destination)  \n",
    "# YOUR CODE ENDS HERE\n",
    "\n",
    "\n",
    "CAT_SOURCE_DIR = \"/tmp/PetImages/Cat/\"\n",
    "TRAINING_CATS_DIR = \"/tmp/cats-v-dogs/training/cats/\"\n",
    "TESTING_CATS_DIR = \"/tmp/cats-v-dogs/testing/cats/\"\n",
    "DOG_SOURCE_DIR = \"/tmp/PetImages/Dog/\"\n",
    "TRAINING_DOGS_DIR = \"/tmp/cats-v-dogs/training/dogs/\"\n",
    "TESTING_DOGS_DIR = \"/tmp/cats-v-dogs/testing/dogs/\"\n",
    "\n",
    "split_size = .9\n",
    "split_data(CAT_SOURCE_DIR, TRAINING_CATS_DIR, TESTING_CATS_DIR, split_size)\n",
    "split_data(DOG_SOURCE_DIR, TRAINING_DOGS_DIR, TESTING_DOGS_DIR, split_size)"
   ]
  },
  {
   "cell_type": "code",
   "execution_count": 9,
   "metadata": {
    "colab": {},
    "colab_type": "code",
    "id": "luthalB76ufC"
   },
   "outputs": [
    {
     "name": "stdout",
     "output_type": "stream",
     "text": [
      "1350\n",
      "1350\n",
      "150\n",
      "150\n"
     ]
    }
   ],
   "source": [
    "print(len(os.listdir('/tmp/cats-v-dogs/training/cats/')))\n",
    "print(len(os.listdir('/tmp/cats-v-dogs/training/dogs/')))\n",
    "print(len(os.listdir('/tmp/cats-v-dogs/testing/cats/')))\n",
    "print(len(os.listdir('/tmp/cats-v-dogs/testing/dogs/')))\n",
    "\n",
    "# Expected output:\n",
    "# 1350\n",
    "# 1350\n",
    "# 150\n",
    "# 150"
   ]
  },
  {
   "cell_type": "code",
   "execution_count": 10,
   "metadata": {
    "colab": {},
    "colab_type": "code",
    "id": "-BQrav4anTmj"
   },
   "outputs": [],
   "source": [
    "# DEFINE A KERAS MODEL TO CLASSIFY CATS V DOGS\n",
    "# USE AT LEAST 3 CONVOLUTION LAYERS\n",
    "model = tf.keras.models.Sequential([\n",
    "    tf.keras.layers.Conv2D(16, (3,3), activation='relu', input_shape=(150, 150, 3)),\n",
    "    tf.keras.layers.MaxPooling2D(2,2),\n",
    "    tf.keras.layers.Conv2D(32, (3,3), activation='relu'),\n",
    "    tf.keras.layers.MaxPooling2D(2,2), \n",
    "    tf.keras.layers.Conv2D(64, (3,3), activation='relu'), \n",
    "    tf.keras.layers.MaxPooling2D(2,2),\n",
    "    # Flatten the results to feed into a DNN\n",
    "    tf.keras.layers.Flatten(), \n",
    "    # 512 neuron hidden layer\n",
    "    tf.keras.layers.Dense(512, activation='relu'), \n",
    "    # Only 1 output neuron. It will contain a value from 0-1 where 0 for 1 class ('cats') and 1 for the other ('dogs')\n",
    "    tf.keras.layers.Dense(1, activation='sigmoid') \n",
    "    \n",
    "])\n",
    "\n",
    "model.compile(optimizer=RMSprop(lr=0.001), loss='binary_crossentropy', metrics=['acc'])"
   ]
  },
  {
   "cell_type": "markdown",
   "metadata": {},
   "source": [
    "# NOTE:\n",
    "\n",
    "In the cell below you **MUST** use a batch size of 10 (`batch_size=10`) for the `train_generator` and the `validation_generator`. Using a batch size greater than 10 will exceed memory limits on the Coursera platform."
   ]
  },
  {
   "cell_type": "code",
   "execution_count": 11,
   "metadata": {
    "colab": {},
    "colab_type": "code",
    "id": "mlNjoJ5D61N6"
   },
   "outputs": [
    {
     "name": "stdout",
     "output_type": "stream",
     "text": [
      "Found 2700 images belonging to 2 classes.\n",
      "Found 300 images belonging to 2 classes.\n"
     ]
    }
   ],
   "source": [
    "TRAINING_DIR = '/tmp/cats-v-dogs/training'\n",
    "train_datagen = ImageDataGenerator( \n",
    "                    rescale = 1.0/255.,\n",
    "                    rotation_range=40,\n",
    "                    width_shift_range=0.2,\n",
    "                    height_shift_range=0.2,\n",
    "                    shear_range=0.2,\n",
    "                    zoom_range=0.2,\n",
    "                    horizontal_flip=True,\n",
    "                    fill_mode='nearest')\n",
    "\n",
    "# NOTE: YOU MUST USE A BATCH SIZE OF 10 (batch_size=10) FOR THE \n",
    "# TRAIN GENERATOR.\n",
    "train_generator = train_datagen.flow_from_directory(TRAINING_DIR,\n",
    "                                                    batch_size=10,\n",
    "                                                    class_mode='binary',\n",
    "                                                    target_size=(150, 150)) \n",
    "\n",
    "\n",
    "VALIDATION_DIR = '/tmp/cats-v-dogs/testing'\n",
    "validation_datagen =ImageDataGenerator(rescale = 1.0/255.)\n",
    "\n",
    "# NOTE: YOU MUST USE A BACTH SIZE OF 10 (batch_size=10) FOR THE \n",
    "# VALIDATION GENERATOR.\n",
    "validation_generator = validation_datagen.flow_from_directory(VALIDATION_DIR,\n",
    "                                                         batch_size=10,\n",
    "                                                         class_mode  = 'binary',\n",
    "                                                         target_size = (150, 150))\n",
    "\n",
    "# Expected Output:\n",
    "# Found 2700 images belonging to 2 classes.\n",
    "# Found 300 images belonging to 2 classes."
   ]
  },
  {
   "cell_type": "code",
   "execution_count": 14,
   "metadata": {
    "colab": {},
    "colab_type": "code",
    "id": "KyS4n53w7DxC"
   },
   "outputs": [
    {
     "name": "stdout",
     "output_type": "stream",
     "text": [
      "Epoch 1/100\n",
      "270/270 [==============================] - 53s 197ms/step - loss: 0.5555 - acc: 0.7319 - val_loss: 0.5013 - val_acc: 0.7700\n",
      "Epoch 2/100\n",
      "270/270 [==============================] - 54s 200ms/step - loss: 0.5709 - acc: 0.7281 - val_loss: 0.4967 - val_acc: 0.7767\n",
      "Epoch 3/100\n",
      "270/270 [==============================] - 52s 194ms/step - loss: 0.5639 - acc: 0.7222 - val_loss: 0.5182 - val_acc: 0.7733\n",
      "Epoch 4/100\n",
      "270/270 [==============================] - 52s 192ms/step - loss: 0.5626 - acc: 0.7385 - val_loss: 0.5119 - val_acc: 0.7800\n",
      "Epoch 5/100\n",
      "270/270 [==============================] - 51s 189ms/step - loss: 0.5680 - acc: 0.7300 - val_loss: 0.5120 - val_acc: 0.7833\n",
      "Epoch 6/100\n",
      "270/270 [==============================] - 50s 186ms/step - loss: 0.5512 - acc: 0.7396 - val_loss: 0.4848 - val_acc: 0.7767\n",
      "Epoch 7/100\n",
      "270/270 [==============================] - 51s 188ms/step - loss: 0.5473 - acc: 0.7381 - val_loss: 0.5127 - val_acc: 0.7767\n",
      "Epoch 8/100\n",
      "270/270 [==============================] - 50s 187ms/step - loss: 0.5565 - acc: 0.7396 - val_loss: 0.5035 - val_acc: 0.7700\n",
      "Epoch 9/100\n",
      "270/270 [==============================] - 52s 192ms/step - loss: 0.5627 - acc: 0.7337 - val_loss: 0.5205 - val_acc: 0.7767\n",
      "Epoch 10/100\n",
      "270/270 [==============================] - 52s 192ms/step - loss: 0.5689 - acc: 0.7319 - val_loss: 0.5376 - val_acc: 0.7467\n",
      "Epoch 11/100\n",
      "270/270 [==============================] - 53s 196ms/step - loss: 0.5616 - acc: 0.7344 - val_loss: 0.5180 - val_acc: 0.7700\n",
      "Epoch 12/100\n",
      "270/270 [==============================] - 50s 187ms/step - loss: 0.5500 - acc: 0.7400 - val_loss: 0.5433 - val_acc: 0.7733\n",
      "Epoch 13/100\n",
      "270/270 [==============================] - 50s 187ms/step - loss: 0.5674 - acc: 0.7219 - val_loss: 0.6225 - val_acc: 0.7800\n",
      "Epoch 14/100\n",
      "270/270 [==============================] - 51s 190ms/step - loss: 0.5534 - acc: 0.7381 - val_loss: 0.5666 - val_acc: 0.7233\n",
      "Epoch 15/100\n",
      "270/270 [==============================] - 53s 194ms/step - loss: 0.5567 - acc: 0.7319 - val_loss: 0.5037 - val_acc: 0.7767\n",
      "Epoch 16/100\n",
      "270/270 [==============================] - 51s 189ms/step - loss: 0.5643 - acc: 0.7341 - val_loss: 0.5758 - val_acc: 0.7200\n",
      "Epoch 17/100\n",
      "270/270 [==============================] - 51s 188ms/step - loss: 0.5573 - acc: 0.7341 - val_loss: 0.5322 - val_acc: 0.7867\n",
      "Epoch 18/100\n",
      "270/270 [==============================] - 51s 187ms/step - loss: 0.5586 - acc: 0.7344 - val_loss: 0.4695 - val_acc: 0.8100\n",
      "Epoch 19/100\n",
      "270/270 [==============================] - 51s 189ms/step - loss: 0.5601 - acc: 0.7359 - val_loss: 0.5336 - val_acc: 0.7733\n",
      "Epoch 20/100\n",
      "270/270 [==============================] - 51s 190ms/step - loss: 0.5568 - acc: 0.7278 - val_loss: 0.5237 - val_acc: 0.7900\n",
      "Epoch 21/100\n",
      "270/270 [==============================] - 58s 213ms/step - loss: 0.5442 - acc: 0.7426 - val_loss: 0.5204 - val_acc: 0.7800\n",
      "Epoch 22/100\n",
      "270/270 [==============================] - 52s 191ms/step - loss: 0.5972 - acc: 0.7378 - val_loss: 0.4686 - val_acc: 0.7667\n",
      "Epoch 23/100\n",
      "270/270 [==============================] - 52s 193ms/step - loss: 0.5662 - acc: 0.7337 - val_loss: 0.5169 - val_acc: 0.7567\n",
      "Epoch 24/100\n",
      "270/270 [==============================] - 51s 190ms/step - loss: 0.5462 - acc: 0.7411 - val_loss: 0.9540 - val_acc: 0.7100\n",
      "Epoch 25/100\n",
      "270/270 [==============================] - 52s 191ms/step - loss: 0.5900 - acc: 0.7281 - val_loss: 0.4636 - val_acc: 0.7767\n",
      "Epoch 26/100\n",
      "270/270 [==============================] - 59s 220ms/step - loss: 0.5484 - acc: 0.7489 - val_loss: 0.5484 - val_acc: 0.7267\n",
      "Epoch 27/100\n",
      "270/270 [==============================] - 53s 196ms/step - loss: 0.5460 - acc: 0.7404 - val_loss: 0.9798 - val_acc: 0.7300\n",
      "Epoch 28/100\n",
      "270/270 [==============================] - 52s 193ms/step - loss: 0.5733 - acc: 0.7363 - val_loss: 1.0073 - val_acc: 0.6867\n",
      "Epoch 29/100\n",
      "270/270 [==============================] - 53s 196ms/step - loss: 0.5597 - acc: 0.7300 - val_loss: 0.7118 - val_acc: 0.7667\n",
      "Epoch 30/100\n",
      "270/270 [==============================] - 52s 191ms/step - loss: 0.5632 - acc: 0.7393 - val_loss: 0.7072 - val_acc: 0.7967\n",
      "Epoch 31/100\n",
      "270/270 [==============================] - 51s 191ms/step - loss: 0.5416 - acc: 0.7619 - val_loss: 0.4717 - val_acc: 0.8067\n",
      "Epoch 32/100\n",
      "270/270 [==============================] - 52s 193ms/step - loss: 0.5610 - acc: 0.7337 - val_loss: 0.5461 - val_acc: 0.7467\n",
      "Epoch 33/100\n",
      "270/270 [==============================] - 51s 189ms/step - loss: 0.5447 - acc: 0.7481 - val_loss: 0.5121 - val_acc: 0.7667\n",
      "Epoch 34/100\n",
      "270/270 [==============================] - 51s 189ms/step - loss: 0.5481 - acc: 0.7348 - val_loss: 0.5412 - val_acc: 0.7800\n",
      "Epoch 35/100\n",
      "270/270 [==============================] - 51s 188ms/step - loss: 0.5526 - acc: 0.7459 - val_loss: 0.5733 - val_acc: 0.7867\n",
      "Epoch 36/100\n",
      "270/270 [==============================] - 50s 185ms/step - loss: 0.5389 - acc: 0.7515 - val_loss: 0.5831 - val_acc: 0.7700\n",
      "Epoch 37/100\n",
      "270/270 [==============================] - 51s 189ms/step - loss: 0.5425 - acc: 0.7500 - val_loss: 0.5205 - val_acc: 0.7933\n",
      "Epoch 38/100\n",
      "270/270 [==============================] - 53s 195ms/step - loss: 0.5287 - acc: 0.7500 - val_loss: 0.5869 - val_acc: 0.7767\n",
      "Epoch 39/100\n",
      "270/270 [==============================] - 52s 194ms/step - loss: 0.5526 - acc: 0.7433 - val_loss: 0.5246 - val_acc: 0.7700\n",
      "Epoch 40/100\n",
      "270/270 [==============================] - 54s 201ms/step - loss: 0.5833 - acc: 0.7411 - val_loss: 0.4829 - val_acc: 0.8100\n",
      "Epoch 41/100\n",
      "270/270 [==============================] - 51s 188ms/step - loss: 0.5588 - acc: 0.7448 - val_loss: 0.7606 - val_acc: 0.7700\n",
      "Epoch 42/100\n",
      "270/270 [==============================] - 51s 191ms/step - loss: 0.5708 - acc: 0.7378 - val_loss: 0.5750 - val_acc: 0.7667\n",
      "Epoch 43/100\n",
      "270/270 [==============================] - 51s 188ms/step - loss: 0.5460 - acc: 0.7522 - val_loss: 0.4597 - val_acc: 0.8067\n",
      "Epoch 44/100\n",
      "270/270 [==============================] - 50s 186ms/step - loss: 0.5432 - acc: 0.7463 - val_loss: 0.5369 - val_acc: 0.7367\n",
      "Epoch 45/100\n",
      "270/270 [==============================] - 50s 187ms/step - loss: 0.5471 - acc: 0.7448 - val_loss: 0.7554 - val_acc: 0.7567\n",
      "Epoch 46/100\n",
      "270/270 [==============================] - 51s 190ms/step - loss: 0.5420 - acc: 0.7426 - val_loss: 0.5571 - val_acc: 0.7767\n",
      "Epoch 47/100\n",
      "270/270 [==============================] - 50s 187ms/step - loss: 0.5574 - acc: 0.7507 - val_loss: 0.5380 - val_acc: 0.8033\n",
      "Epoch 48/100\n",
      "270/270 [==============================] - 50s 187ms/step - loss: 0.5496 - acc: 0.7470 - val_loss: 0.4596 - val_acc: 0.8100\n",
      "Epoch 49/100\n",
      "270/270 [==============================] - 50s 186ms/step - loss: 0.5428 - acc: 0.7359 - val_loss: 0.7302 - val_acc: 0.8033\n",
      "Epoch 50/100\n",
      "270/270 [==============================] - 50s 186ms/step - loss: 0.5268 - acc: 0.7533 - val_loss: 0.5094 - val_acc: 0.7733\n",
      "Epoch 51/100\n",
      "270/270 [==============================] - 51s 188ms/step - loss: 0.5368 - acc: 0.7567 - val_loss: 0.5309 - val_acc: 0.7600\n",
      "Epoch 52/100\n",
      "270/270 [==============================] - 51s 188ms/step - loss: 0.5391 - acc: 0.7419 - val_loss: 0.4936 - val_acc: 0.8200\n",
      "Epoch 53/100\n",
      "270/270 [==============================] - 50s 186ms/step - loss: 0.5624 - acc: 0.7533 - val_loss: 0.5129 - val_acc: 0.7800\n",
      "Epoch 54/100\n",
      "270/270 [==============================] - 54s 199ms/step - loss: 0.5316 - acc: 0.7563 - val_loss: 0.4852 - val_acc: 0.8200\n",
      "Epoch 55/100\n",
      "270/270 [==============================] - 50s 186ms/step - loss: 0.5354 - acc: 0.7519 - val_loss: 0.5305 - val_acc: 0.7933\n",
      "Epoch 56/100\n",
      "270/270 [==============================] - 51s 191ms/step - loss: 0.5525 - acc: 0.7496 - val_loss: 0.5252 - val_acc: 0.8000\n",
      "Epoch 57/100\n",
      "270/270 [==============================] - 51s 190ms/step - loss: 0.5567 - acc: 0.7293 - val_loss: 0.5148 - val_acc: 0.7967\n",
      "Epoch 58/100\n",
      "270/270 [==============================] - 52s 192ms/step - loss: 0.5574 - acc: 0.7326 - val_loss: 0.4786 - val_acc: 0.8133\n",
      "Epoch 59/100\n",
      "270/270 [==============================] - 52s 192ms/step - loss: 0.5628 - acc: 0.7270 - val_loss: 0.5516 - val_acc: 0.7633\n",
      "Epoch 60/100\n",
      "270/270 [==============================] - 52s 193ms/step - loss: 0.5733 - acc: 0.7541 - val_loss: 0.5796 - val_acc: 0.7700\n",
      "Epoch 61/100\n",
      "270/270 [==============================] - 52s 191ms/step - loss: 0.5770 - acc: 0.7381 - val_loss: 0.4509 - val_acc: 0.7967\n",
      "Epoch 62/100\n",
      "270/270 [==============================] - 52s 194ms/step - loss: 0.5434 - acc: 0.7493 - val_loss: 0.5569 - val_acc: 0.7500\n",
      "Epoch 63/100\n",
      "270/270 [==============================] - 52s 194ms/step - loss: 0.5570 - acc: 0.7467 - val_loss: 1.1572 - val_acc: 0.7600\n",
      "Epoch 64/100\n",
      "270/270 [==============================] - 52s 194ms/step - loss: 0.5640 - acc: 0.7374 - val_loss: 0.6978 - val_acc: 0.7600\n",
      "Epoch 65/100\n",
      "270/270 [==============================] - 52s 191ms/step - loss: 0.5563 - acc: 0.7500 - val_loss: 0.6470 - val_acc: 0.7967\n",
      "Epoch 66/100\n",
      "270/270 [==============================] - 52s 192ms/step - loss: 0.6918 - acc: 0.7396 - val_loss: 0.6551 - val_acc: 0.7533\n",
      "Epoch 67/100\n",
      "270/270 [==============================] - 52s 191ms/step - loss: 0.5628 - acc: 0.7337 - val_loss: 0.5032 - val_acc: 0.8133\n",
      "Epoch 68/100\n",
      "270/270 [==============================] - 51s 187ms/step - loss: 0.5324 - acc: 0.7574 - val_loss: 0.5570 - val_acc: 0.7933\n",
      "Epoch 69/100\n",
      "270/270 [==============================] - 54s 199ms/step - loss: 0.5413 - acc: 0.7637 - val_loss: 0.5729 - val_acc: 0.7700\n",
      "Epoch 70/100\n",
      "270/270 [==============================] - 52s 194ms/step - loss: 0.5297 - acc: 0.7630 - val_loss: 0.6557 - val_acc: 0.7400\n",
      "Epoch 71/100\n",
      "270/270 [==============================] - 52s 194ms/step - loss: 0.5318 - acc: 0.7604 - val_loss: 0.5738 - val_acc: 0.7867\n",
      "Epoch 72/100\n",
      "270/270 [==============================] - 52s 194ms/step - loss: 0.5502 - acc: 0.7589 - val_loss: 0.4910 - val_acc: 0.8000\n",
      "Epoch 73/100\n",
      "270/270 [==============================] - 52s 192ms/step - loss: 0.5386 - acc: 0.7526 - val_loss: 0.6206 - val_acc: 0.7567\n",
      "Epoch 74/100\n",
      "270/270 [==============================] - 52s 191ms/step - loss: 0.5410 - acc: 0.7500 - val_loss: 1.0075 - val_acc: 0.7500\n",
      "Epoch 75/100\n",
      "270/270 [==============================] - 53s 195ms/step - loss: 0.5259 - acc: 0.7611 - val_loss: 1.4878 - val_acc: 0.7033\n",
      "Epoch 76/100\n",
      "270/270 [==============================] - 53s 198ms/step - loss: 0.5298 - acc: 0.7559 - val_loss: 0.4609 - val_acc: 0.7700\n",
      "Epoch 77/100\n",
      "270/270 [==============================] - 52s 192ms/step - loss: 0.5364 - acc: 0.7593 - val_loss: 0.5505 - val_acc: 0.7467\n",
      "Epoch 78/100\n",
      "270/270 [==============================] - 54s 199ms/step - loss: 0.5419 - acc: 0.7441 - val_loss: 0.4581 - val_acc: 0.8233\n",
      "Epoch 79/100\n",
      "270/270 [==============================] - 53s 196ms/step - loss: 0.5542 - acc: 0.7563 - val_loss: 0.9985 - val_acc: 0.7833\n",
      "Epoch 80/100\n",
      "270/270 [==============================] - 54s 198ms/step - loss: 0.5319 - acc: 0.7493 - val_loss: 0.5634 - val_acc: 0.7800\n",
      "Epoch 81/100\n",
      "270/270 [==============================] - 53s 196ms/step - loss: 0.5757 - acc: 0.7563 - val_loss: 0.5140 - val_acc: 0.7867\n",
      "Epoch 82/100\n",
      "270/270 [==============================] - 52s 193ms/step - loss: 0.5333 - acc: 0.7619 - val_loss: 0.5673 - val_acc: 0.7733\n",
      "Epoch 83/100\n",
      "270/270 [==============================] - 54s 200ms/step - loss: 0.5351 - acc: 0.7630 - val_loss: 0.5248 - val_acc: 0.7900\n",
      "Epoch 84/100\n",
      "270/270 [==============================] - 55s 205ms/step - loss: 0.5548 - acc: 0.7548 - val_loss: 0.6249 - val_acc: 0.7433\n",
      "Epoch 85/100\n",
      "270/270 [==============================] - 54s 200ms/step - loss: 0.5452 - acc: 0.7522 - val_loss: 0.5003 - val_acc: 0.8167\n",
      "Epoch 86/100\n",
      "270/270 [==============================] - 52s 193ms/step - loss: 0.5622 - acc: 0.7567 - val_loss: 0.6762 - val_acc: 0.7633\n",
      "Epoch 87/100\n",
      "270/270 [==============================] - 52s 192ms/step - loss: 0.5559 - acc: 0.7463 - val_loss: 0.5235 - val_acc: 0.7600\n",
      "Epoch 88/100\n",
      "270/270 [==============================] - 52s 194ms/step - loss: 0.5524 - acc: 0.7500 - val_loss: 0.5517 - val_acc: 0.7867\n",
      "Epoch 89/100\n",
      "270/270 [==============================] - 52s 194ms/step - loss: 0.5944 - acc: 0.7567 - val_loss: 0.4902 - val_acc: 0.8133\n",
      "Epoch 90/100\n",
      "270/270 [==============================] - 52s 193ms/step - loss: 0.5669 - acc: 0.7541 - val_loss: 0.6432 - val_acc: 0.7667\n",
      "Epoch 91/100\n",
      "270/270 [==============================] - 53s 196ms/step - loss: 0.5676 - acc: 0.7467 - val_loss: 0.4951 - val_acc: 0.8133\n",
      "Epoch 92/100\n",
      "270/270 [==============================] - 53s 195ms/step - loss: 0.5826 - acc: 0.7422 - val_loss: 0.4878 - val_acc: 0.8200\n",
      "Epoch 93/100\n",
      "270/270 [==============================] - 53s 197ms/step - loss: 0.5591 - acc: 0.7444 - val_loss: 0.6136 - val_acc: 0.7633\n",
      "Epoch 94/100\n",
      "270/270 [==============================] - 53s 198ms/step - loss: 0.5524 - acc: 0.7433 - val_loss: 0.5543 - val_acc: 0.7900\n",
      "Epoch 95/100\n",
      "270/270 [==============================] - 53s 197ms/step - loss: 0.5708 - acc: 0.7530 - val_loss: 0.4803 - val_acc: 0.7933\n",
      "Epoch 96/100\n",
      "270/270 [==============================] - 50s 187ms/step - loss: 0.5635 - acc: 0.7552 - val_loss: 0.6858 - val_acc: 0.7900\n",
      "Epoch 97/100\n",
      "270/270 [==============================] - 52s 192ms/step - loss: 0.5697 - acc: 0.7507 - val_loss: 0.4976 - val_acc: 0.7900\n",
      "Epoch 98/100\n",
      "270/270 [==============================] - 53s 197ms/step - loss: 0.5855 - acc: 0.7611 - val_loss: 0.6633 - val_acc: 0.7367\n",
      "Epoch 99/100\n",
      "270/270 [==============================] - 52s 192ms/step - loss: 0.5564 - acc: 0.7530 - val_loss: 0.8610 - val_acc: 0.7833\n",
      "Epoch 100/100\n",
      "270/270 [==============================] - 50s 186ms/step - loss: 0.5654 - acc: 0.7404 - val_loss: 0.4790 - val_acc: 0.8167\n"
     ]
    }
   ],
   "source": [
    "history = model.fit_generator(train_generator,\n",
    "                              epochs=100,\n",
    "                              verbose=1,\n",
    "                              validation_data=validation_generator)\n"
   ]
  },
  {
   "cell_type": "code",
   "execution_count": 15,
   "metadata": {
    "colab": {},
    "colab_type": "code",
    "id": "MWZrJN4-65RC"
   },
   "outputs": [
    {
     "data": {
      "text/plain": [
       "Text(0.5, 1.0, 'Training and validation loss')"
      ]
     },
     "execution_count": 15,
     "metadata": {},
     "output_type": "execute_result"
    },
    {
     "data": {
      "image/png": "[encoded data removed]",
      "text/plain": [
       "<Figure size 432x288 with 1 Axes>"
      ]
     },
     "metadata": {
      "needs_background": "light"
     },
     "output_type": "display_data"
    },
    {
     "data": {
      "image/png": "[encoded data removed]",
      "text/plain": [
       "<Figure size 432x288 with 1 Axes>"
      ]
     },
     "metadata": {
      "needs_background": "light"
     },
     "output_type": "display_data"
    }
   ],
   "source": [
    "# PLOT LOSS AND ACCURACY\n",
    "%matplotlib inline\n",
    "\n",
    "import matplotlib.image  as mpimg\n",
    "import matplotlib.pyplot as plt\n",
    "\n",
    "#-----------------------------------------------------------\n",
    "# Retrieve a list of list results on training and test data\n",
    "# sets for each training epoch\n",
    "#-----------------------------------------------------------\n",
    "acc=history.history['acc']\n",
    "val_acc=history.history['val_acc']\n",
    "loss=history.history['loss']\n",
    "val_loss=history.history['val_loss']\n",
    "\n",
    "epochs=range(len(acc)) # Get number of epochs\n",
    "\n",
    "#------------------------------------------------\n",
    "# Plot training and validation accuracy per epoch\n",
    "#------------------------------------------------\n",
    "plt.plot(epochs, acc, 'r', \"Training Accuracy\")\n",
    "plt.plot(epochs, val_acc, 'b', \"Validation Accuracy\")\n",
    "plt.title('Training and validation accuracy')\n",
    "plt.figure()\n",
    "\n",
    "#------------------------------------------------\n",
    "# Plot training and validation loss per epoch\n",
    "#------------------------------------------------\n",
    "plt.plot(epochs, loss, 'r', \"Training Loss\")\n",
    "plt.plot(epochs, val_loss, 'b', \"Validation Loss\")\n",
    "\n",
    "\n",
    "plt.title('Training and validation loss')\n",
    "\n",
    "# Desired output. Charts with training and validation metrics. No crash :)"
   ]
  },
  {
   "cell_type": "markdown",
   "metadata": {},
   "source": [
    "# Submission Instructions"
   ]
  },
  {
   "cell_type": "code",
   "execution_count": 16,
   "metadata": {},
   "outputs": [],
   "source": [
    "# Now click the 'Submit Assignment' button above."
   ]
  },
  {
   "cell_type": "markdown",
   "metadata": {},
   "source": [
    "# When you're done or would like to take a break, please run the two cells below to save your work and close the Notebook. This will free up resources for your fellow learners. "
   ]
  },
  {
   "cell_type": "code",
   "execution_count": null,
   "metadata": {},
   "outputs": [],
   "source": [
    "%%javascript\n",
    "<!-- Save the notebook -->\n",
    "IPython.notebook.save_checkpoint();"
   ]
  },
  {
   "cell_type": "code",
   "execution_count": null,
   "metadata": {},
   "outputs": [
    {
     "data": {
      "application/javascript": [
       "IPython.notebook.session.delete();\n",
       "window.onbeforeunload = null\n",
       "setTimeout(function() { window.close(); }, 1000);\n"
      ],
      "text/plain": [
       "<IPython.core.display.Javascript object>"
      ]
     },
     "metadata": {},
     "output_type": "display_data"
    }
   ],
   "source": [
    "%%javascript\n",
    "IPython.notebook.session.delete();\n",
    "window.onbeforeunload = null\n",
    "setTimeout(function() { window.close(); }, 1000);"
   ]
  },
  {
   "cell_type": "code",
   "execution_count": null,
   "metadata": {},
   "outputs": [],
   "source": []
  },
  {
   "cell_type": "code",
   "execution_count": null,
   "metadata": {},
   "outputs": [],
   "source": []
  }
 ],
 "metadata": {
  "accelerator": "GPU",
  "colab": {
   "collapsed_sections": [],
   "name": "Exercise 6 - Question.ipynb",
   "provenance": []
  },
  "coursera": {
   "course_slug": "convolutional-neural-networks-tensorflow",
   "graded_item_id": "uAPOR",
   "launcher_item_id": "e9lTb"
  },
  "kernelspec": {
   "display_name": "Python 3",
   "language": "python",
   "name": "python3"
  },
  "language_info": {
   "codemirror_mode": {
    "name": "ipython",
    "version": 3
   },
   "file_extension": ".py",
   "mimetype": "text/x-python",
   "name": "python",
   "nbconvert_exporter": "python",
   "pygments_lexer": "ipython3",
   "version": "3.6.8"
  }
 },
 "nbformat": 4,
 "nbformat_minor": 1
}
